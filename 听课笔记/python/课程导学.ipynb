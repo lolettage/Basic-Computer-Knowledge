{
 "cells": [
  {
   "cell_type": "markdown",
   "metadata": {},
   "source": [
    "# 课程导学\n",
    "\n",
    "### 课程定位与目标\n",
    "\n",
    "* 零基础\n",
    "* 大学水平\n",
    "* Python\n",
    "\n",
    "### 课程教学安排\n",
    "\n",
    "* 约25小时\n",
    "* 做练习题\n",
    "* 测验\n",
    "* https://python123.io\n",
    "* 教材，教辅，课件，代码\n",
    "* 1套Python基础语法全体系\n",
    "* 7个常用的Python程序设计模块（库）\n",
    "* 16个优秀的Python程序实践案例\n",
    "\n",
    "### 学习建议\n",
    "\n",
    "* 线上线下\n",
    "* 手机电脑\n",
    "* 长短时间\n",
    "\n",
    "### 内容概述\n",
    "#### 面向过程编程\n",
    "* Python快速入门\n",
    "* Python基础语法\n",
    "* Python编程思维"
   ]
  },
  {
   "cell_type": "code",
   "execution_count": null,
   "metadata": {},
   "outputs": [],
   "source": []
  }
 ],
 "metadata": {
  "kernelspec": {
   "display_name": "Python 3",
   "language": "python",
   "name": "python3"
  },
  "language_info": {
   "codemirror_mode": {
    "name": "ipython",
    "version": 3
   },
   "file_extension": ".py",
   "mimetype": "text/x-python",
   "name": "python",
   "nbconvert_exporter": "python",
   "pygments_lexer": "ipython3",
   "version": "3.6.4"
  }
 },
 "nbformat": 4,
 "nbformat_minor": 2
}
