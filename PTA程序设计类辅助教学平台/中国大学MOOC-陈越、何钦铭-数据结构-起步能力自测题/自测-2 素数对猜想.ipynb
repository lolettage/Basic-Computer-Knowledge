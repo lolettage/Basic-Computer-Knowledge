{
 "cells": [
  {
   "cell_type": "markdown",
   "metadata": {},
   "source": [
    "# 自测-2 素数对猜想"
   ]
  },
  {
   "cell_type": "markdown",
   "metadata": {},
   "source": [
    "<br>让我们定义d<sub>n</sub>为：d<sub>n</sub>=p<sub>n+1</sub>−p<sub>n</sub>，其中p<sub>i</sub>是第i个素数。显然有d<sub>1</sub>=1，且对于n>1有d<sub>n</sub>是偶数。“素数对猜想”认为“存在无穷多对相邻且差为2的素数”。现给定任意正整数N(<10<sup>5</sup>)，请计算不超过N的满足猜想的素数对的个数。"
   ]
  },
  {
   "cell_type": "markdown",
   "metadata": {},
   "source": [
    "## 输入格式"
   ]
  },
  {
   "cell_type": "markdown",
   "metadata": {},
   "source": [
    "<br>输入在一行给出正整数N。"
   ]
  },
  {
   "cell_type": "markdown",
   "metadata": {},
   "source": [
    "## 输出格式"
   ]
  },
  {
   "cell_type": "markdown",
   "metadata": {},
   "source": [
    "<br>在一行中输出不超过N的满足猜想的素数对的个数。"
   ]
  },
  {
   "cell_type": "markdown",
   "metadata": {},
   "source": [
    "## 输入样例"
   ]
  },
  {
   "cell_type": "markdown",
   "metadata": {},
   "source": [
    "<br>20"
   ]
  },
  {
   "cell_type": "markdown",
   "metadata": {},
   "source": [
    "## 输出样例"
   ]
  },
  {
   "cell_type": "markdown",
   "metadata": {},
   "source": [
    "<br>4"
   ]
  },
  {
   "cell_type": "code",
   "execution_count": null,
   "metadata": {},
   "outputs": [],
   "source": [
    "import math\n",
    "n = int(input())\n",
    "num = []\n",
    "i = 2\n",
    "s = 0\n",
    "for i in range(2, n + 1):\n",
    "    j = 2\n",
    "    for j in range(2, int(math.sqrt(i)) + 1):\n",
    "        if(i % j == 0):\n",
    "            break\n",
    "    else:\n",
    "        num.append(i)\n",
    "        if len(num) > 1 and num[-1] - num[-2] == 2:\n",
    "            s = s + 1\n",
    "print(s)\n"
   ]
  }
 ],
 "metadata": {
  "kernelspec": {
   "display_name": "Python 3",
   "language": "python",
   "name": "python3"
  },
  "language_info": {
   "codemirror_mode": {
    "name": "ipython",
    "version": 3
   },
   "file_extension": ".py",
   "mimetype": "text/x-python",
   "name": "python",
   "nbconvert_exporter": "python",
   "pygments_lexer": "ipython3",
   "version": "3.6.4"
  }
 },
 "nbformat": 4,
 "nbformat_minor": 2
}
