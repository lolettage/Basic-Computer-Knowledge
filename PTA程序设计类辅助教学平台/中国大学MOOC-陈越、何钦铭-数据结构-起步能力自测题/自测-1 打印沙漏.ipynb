{
 "cells": [
  {
   "cell_type": "markdown",
   "metadata": {},
   "source": [
    "# 自测-1 打印沙漏 "
   ]
  },
  {
   "cell_type": "markdown",
   "metadata": {},
   "source": [
    "<br>本题要求你写个程序把给定的符号打印成沙漏的形状。例如给定17个“*”，要求按下列格式打印\n",
    "\n",
    "<br>\\*\\*\\*\\*\\*\n",
    "<br>&nbsp;\\*\\*\\*\n",
    "<br>&nbsp;&nbsp;\\*\n",
    "<br>&nbsp;\\*\\*\\*\n",
    "<br>\\*\\*\\*\\*\\*\n",
    "\n",
    "<br>所谓“沙漏形状”，是指每行输出奇数个符号；各行符号中心对齐；相邻两行符号数差2；符号数先从大到小顺序递减到1，再从小到大顺序递增；首尾符号数相等。\n",
    "<br>给定任意N个符号，不一定能正好组成一个沙漏。要求打印出的沙漏能用掉尽可能多的符号。"
   ]
  },
  {
   "cell_type": "markdown",
   "metadata": {},
   "source": [
    "## 输入格式"
   ]
  },
  {
   "cell_type": "markdown",
   "metadata": {},
   "source": [
    "<br>输入在一行给出1个正整数N（≤1000）和一个符号，中间以空格分隔。"
   ]
  },
  {
   "cell_type": "markdown",
   "metadata": {},
   "source": [
    "## 输出格式"
   ]
  },
  {
   "cell_type": "markdown",
   "metadata": {},
   "source": [
    "<br>首先打印出由给定符号组成的最大的沙漏形状，最后在一行中输出剩下没用掉的符号数。"
   ]
  },
  {
   "cell_type": "markdown",
   "metadata": {},
   "source": [
    "## 输入样例"
   ]
  },
  {
   "cell_type": "markdown",
   "metadata": {},
   "source": [
    "<br>19 *"
   ]
  },
  {
   "cell_type": "markdown",
   "metadata": {},
   "source": [
    "## 输出样例"
   ]
  },
  {
   "cell_type": "markdown",
   "metadata": {},
   "source": [
    "<br>\\*\\*\\*\\*\\*\n",
    "<br>&nbsp;\\*\\*\\*\n",
    "<br>&nbsp;&nbsp;\\*\n",
    "<br>&nbsp;\\*\\*\\*\n",
    "<br>\\*\\*\\*\\*\\*\n",
    "<br>2"
   ]
  },
  {
   "cell_type": "code",
   "execution_count": null,
   "metadata": {},
   "outputs": [],
   "source": [
    "raw = input()\n",
    "tt = list(map(str, raw.split()))\n",
    "n = int(tt[0])\n",
    "kongge = ' '\n",
    "xihua = tt[1]\n",
    "a = (n + 1) // 2\n",
    "b = int(a ** 0.5)\n",
    "c = n - 2 * b ** 2 + 1\n",
    "d = 2 * b - 1\n",
    "i = b\n",
    "e = 0\n",
    "t = d\n",
    "\n",
    "while i > 1:\n",
    "    print(e * kongge + t * xihua)\n",
    "    t = t - 2\n",
    "    e = e + 1\n",
    "    i = i - 1\n",
    "print(e * kongge + t * xihua)\n",
    "while i < b:\n",
    "    t = t + 2\n",
    "    e = e - 1\n",
    "    i = i + 1\n",
    "    print(e * kongge + t * xihua)\n",
    "print(c)"
   ]
  }
 ],
 "metadata": {
  "kernelspec": {
   "display_name": "Python 3",
   "language": "python",
   "name": "python3"
  },
  "language_info": {
   "codemirror_mode": {
    "name": "ipython",
    "version": 3
   },
   "file_extension": ".py",
   "mimetype": "text/x-python",
   "name": "python",
   "nbconvert_exporter": "python",
   "pygments_lexer": "ipython3",
   "version": "3.6.4"
  }
 },
 "nbformat": 4,
 "nbformat_minor": 2
}
